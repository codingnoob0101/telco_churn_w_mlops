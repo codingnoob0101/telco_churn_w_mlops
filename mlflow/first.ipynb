{
 "cells": [
  {
   "cell_type": "code",
   "execution_count": 1,
   "id": "d4f46a44",
   "metadata": {},
   "outputs": [],
   "source": [
    "import numpy as np\n",
    "from sklearn.datasets import make_classification\n",
    "from sklearn.model_selection import train_test_split\n",
    "from sklearn.linear_model import LogisticRegression\n",
    "from sklearn.ensemble import RandomForestClassifier\n",
    "from xgboost import XGBClassifier\n",
    "from sklearn.metrics import classification_report\n",
    "import warnings\n",
    "warnings.filterwarnings('ignore')"
   ]
  },
  {
   "cell_type": "code",
   "execution_count": 2,
   "id": "9c2346d6",
   "metadata": {},
   "outputs": [
    {
     "data": {
      "text/plain": [
       "(array([0, 1]), array([900, 100]))"
      ]
     },
     "execution_count": 2,
     "metadata": {},
     "output_type": "execute_result"
    }
   ],
   "source": [
    "# Step 1: Create an imbalanced binary classification dataset\n",
    "X, y = make_classification(n_samples=1000, n_features=10, n_informative=2, n_redundant=8, \n",
    "                           weights=[0.9, 0.1], flip_y=0, random_state=42)\n",
    "\n",
    "np.unique(y, return_counts=True)"
   ]
  },
  {
   "cell_type": "code",
   "execution_count": 4,
   "id": "e4876a5e",
   "metadata": {},
   "outputs": [],
   "source": [
    "# split the data into training and testing sets\n",
    "X_train, X_test, y_train, y_test = train_test_split(X, y, test_size = 0.2, stratify=y, random_state = 42)"
   ]
  },
  {
   "cell_type": "code",
   "execution_count": 7,
   "id": "7a1781b3",
   "metadata": {},
   "outputs": [
    {
     "name": "stdout",
     "output_type": "stream",
     "text": [
      "              precision    recall  f1-score   support\n",
      "\n",
      "           0       0.93      0.96      0.95       180\n",
      "           1       0.50      0.40      0.44        20\n",
      "\n",
      "    accuracy                           0.90       200\n",
      "   macro avg       0.72      0.68      0.69       200\n",
      "weighted avg       0.89      0.90      0.89       200\n",
      "\n"
     ]
    }
   ],
   "source": [
    "params = {\n",
    "    'solver': 'lbfgs',\n",
    "    'max_iter': 1000,\n",
    "    'random_state': 42,\n",
    "    'multi_class': 'auto'\n",
    "}\n",
    "\n",
    "lr = LogisticRegression(**params)\n",
    "lr.fit(X_train, y_train)\n",
    "\n",
    "#predict the test set\n",
    "y_pred = lr.predict(X_test)\n",
    "\n",
    "#report\n",
    "report = classification_report(y_test, y_pred)\n",
    "print(report)"
   ]
  },
  {
   "cell_type": "code",
   "execution_count": 8,
   "id": "9b29e372",
   "metadata": {},
   "outputs": [],
   "source": [
    "report_dict = classification_report(y_test, y_pred, output_dict = True)"
   ]
  },
  {
   "cell_type": "code",
   "execution_count": 9,
   "id": "101286f3",
   "metadata": {},
   "outputs": [
    {
     "data": {
      "text/plain": [
       "{'0': {'precision': 0.9347826086956522,\n",
       "  'recall': 0.9555555555555556,\n",
       "  'f1-score': 0.945054945054945,\n",
       "  'support': 180.0},\n",
       " '1': {'precision': 0.5,\n",
       "  'recall': 0.4,\n",
       "  'f1-score': 0.4444444444444444,\n",
       "  'support': 20.0},\n",
       " 'accuracy': 0.9,\n",
       " 'macro avg': {'precision': 0.7173913043478262,\n",
       "  'recall': 0.6777777777777778,\n",
       "  'f1-score': 0.6947496947496947,\n",
       "  'support': 200.0},\n",
       " 'weighted avg': {'precision': 0.891304347826087,\n",
       "  'recall': 0.9,\n",
       "  'f1-score': 0.8949938949938949,\n",
       "  'support': 200.0}}"
      ]
     },
     "execution_count": 9,
     "metadata": {},
     "output_type": "execute_result"
    }
   ],
   "source": [
    "report_dict"
   ]
  },
  {
   "cell_type": "code",
   "execution_count": 10,
   "id": "3daea5aa",
   "metadata": {},
   "outputs": [],
   "source": [
    "import mlflow"
   ]
  },
  {
   "cell_type": "code",
   "execution_count": null,
   "id": "2322b1e8",
   "metadata": {},
   "outputs": [
    {
     "name": "stderr",
     "output_type": "stream",
     "text": [
      "2025/10/10 17:53:02 INFO mlflow.tracking.fluent: Experiment with name 'first experiment' does not exist. Creating a new experiment.\n"
     ]
    }
   ],
   "source": [
    "mlflow.set_experiment('first experiment')\n",
    "mlflow.set_tracking_uri('http://127.0.0.1:5000')\n",
    "\n",
    "with mlflow.start_run():\n",
    "    mlflow.log_params(params)\n",
    "    mlflow.log_metrics({\n",
    "        'accuracy': report_dict['accuracy'],\n",
    "        'precision': report_dict['1']['precision'],\n",
    "        'recall': report_dict['1']['recall'],\n",
    "        'f1-score': report_dict['1']['f1-score']\n",
    "    })\n",
    "    mlflow.sklearn.log_model(lr, 'model')"
   ]
  },
  {
   "cell_type": "code",
   "execution_count": null,
   "id": "aeaf8813",
   "metadata": {},
   "outputs": [],
   "source": []
  }
 ],
 "metadata": {
  "kernelspec": {
   "display_name": "telcochurn",
   "language": "python",
   "name": "python3"
  },
  "language_info": {
   "codemirror_mode": {
    "name": "ipython",
    "version": 3
   },
   "file_extension": ".py",
   "mimetype": "text/x-python",
   "name": "python",
   "nbconvert_exporter": "python",
   "pygments_lexer": "ipython3",
   "version": "3.13.7"
  }
 },
 "nbformat": 4,
 "nbformat_minor": 5
}
