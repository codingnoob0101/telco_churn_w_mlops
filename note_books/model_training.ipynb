{
 "cells": [
  {
   "cell_type": "code",
   "execution_count": 24,
   "id": "45f89be9",
   "metadata": {},
   "outputs": [],
   "source": [
    "import pandas as pd\n",
    "from sklearn.model_selection import train_test_split, GridSearchCV\n",
    "from sklearn.preprocessing import StandardScaler, OneHotEncoder, LabelEncoder\n",
    "from sklearn.metrics import roc_auc_score, classification_report\n",
    "import matplotlib.pyplot as plt\n",
    "from scipy import stats\n",
    "import xgboost as xgb\n",
    "import shap\n",
    "import warnings"
   ]
  },
  {
   "cell_type": "code",
   "execution_count": 2,
   "id": "bfb200fe",
   "metadata": {},
   "outputs": [],
   "source": [
    "warnings.filterwarnings('ignore')"
   ]
  },
  {
   "cell_type": "markdown",
   "id": "a41a2972",
   "metadata": {},
   "source": [
    "# Utility function"
   ]
  },
  {
   "cell_type": "code",
   "execution_count": 3,
   "id": "07768164",
   "metadata": {},
   "outputs": [],
   "source": [
    "def analyze_outliers(df, column_names):\n",
    "    \"\"\"\n",
    "    Analyze and print the outlier rows for the given numeric columns using the IQR method.\n",
    "\n",
    "    Parameters:\n",
    "    df (pandas.DataFrame): The input DataFrame.\n",
    "    column_names (list of str): List of numeric column names to analyze.\n",
    "\n",
    "    Returns:\n",
    "    None (prints the outliers directly).\n",
    "    \"\"\"\n",
    "\n",
    "    df_analyze = df.copy()\n",
    "\n",
    "    for column in column_names:\n",
    "        # Define lower and upper bound\n",
    "        Q1 = df_analyze[column].quantile(0.25)\n",
    "        Q3 = df_analyze[column].quantile(0.75)\n",
    "        IQR = Q3 - Q1\n",
    "        lower_bound = Q1 - 1.5 * IQR\n",
    "        upper_bound = Q3 + 1.5 * IQR\n",
    "\n",
    "        # Select outliers\n",
    "        outliers = df_analyze[(df_analyze[column] < lower_bound) | (df_analyze[column] > upper_bound)]\n",
    "\n",
    "        # Print output\n",
    "        print(f\"Outliers for column '{column}':\")\n",
    "        if outliers.empty:\n",
    "            print(\"No outliers found.\")\n",
    "        else:\n",
    "            print(outliers[[column]])  # Prints only the column; add more columns if needed\n",
    "        print(\"-\" * 50)\n",
    "\n",
    "# Example usage (assuming 'df' is your DataFrame):\n",
    "# analyze_outliers(df, ['MonthlyCharges', 'tenure', 'TotalCharges'])\n"
   ]
  },
  {
   "cell_type": "code",
   "execution_count": 4,
   "id": "21c9d4b9",
   "metadata": {},
   "outputs": [],
   "source": [
    "def remove_outliers(df, column_names):\n",
    "    \"\"\"\n",
    "    Remove outliers in numeric columns of the dataframe by using IQR method\n",
    "    outliers defined as laying outside 1.5 IQR lower or upper than Q1 & Q3\n",
    "    \"\"\"\n",
    "    df_clean = df.copy()\n",
    "\n",
    "    for column in column_names:\n",
    "        # define lower and upper bound\n",
    "        Q1 = df_clean[column].quantile(0.25)\n",
    "        Q3 = df_clean[column].quantile(0.75)\n",
    "        IQR = Q3 - Q1\n",
    "        lower_bound = Q1 - 1.5*IQR\n",
    "        upper_bound = Q3 + 1.5*IQR\n",
    "\n",
    "        # filter out outliers\n",
    "        df_clean = df_clean[(df_clean[column] >= lower_bound) & (df_clean[column] <= upper_bound)]\n",
    "\n",
    "    return df_clean"
   ]
  },
  {
   "cell_type": "code",
   "execution_count": 5,
   "id": "0fe8d55c",
   "metadata": {},
   "outputs": [],
   "source": [
    "def winsorize_outliers(df, column_names, limits = [0.05, 0.05]):\n",
    "    \"\"\"\n",
    "    instead of completely remove the extreme values of the dataset,\n",
    "    winsorize the outliers to cap the max values at 0.05 and 0.95\n",
    "\n",
    "    variables:\n",
    "    - columns_names: provide a list of column names\n",
    "    \"\"\"\n",
    "    df_winsorize = df.copy()\n",
    "\n",
    "    for column in column_names:\n",
    "        df_winsorize[column] = stats.mstats.winsorize(\n",
    "            df_winsorize[column],\n",
    "            limits = limits\n",
    "        )\n",
    "\n",
    "    return df_winsorize"
   ]
  },
  {
   "cell_type": "code",
   "execution_count": 79,
   "id": "9ec9de6f",
   "metadata": {},
   "outputs": [],
   "source": [
    "def plot_shap(shap_values, X, max_display=15, fig_size=(15, 8), show=True):\n",
    "    \"\"\"\n",
    "    Function for plotting SHAP plots in two subplots:\n",
    "    - Left: Bar plot (feature importance by magnitude).\n",
    "    - Right: Dot plot (direction and distribution).\n",
    "    \n",
    "    Parameters:\n",
    "    - shap_values: SHAP values obtained (array or Explanation object).\n",
    "    - X: Feature DataFrame for computation.\n",
    "    - max_display: Number of top features to display (default 15).\n",
    "    - fig_size: Tuple for figure size (width, height).\n",
    "    - show: If True (default), displays the plot.\n",
    "    \n",
    "    Returns:\n",
    "    - fig: The matplotlib figure object.\n",
    "    \"\"\"\n",
    "    # Create subplots with width ratios (bar narrower, dot wider for readability)\n",
    "    fig, (ax1, ax2) = plt.subplots(1, 2, figsize=fig_size, gridspec_kw={'width_ratios': [1, 1.5]})\n",
    "    \n",
    "    # Left subplot: SHAP bar plot\n",
    "    plt.sca(ax1)  # Set current axes to ax1\n",
    "    shap.summary_plot(shap_values, X, plot_type='bar', max_display=max_display, show=False)\n",
    "    ax1.set_title('SHAP Bar Plot (Feature Importance)', fontsize=10)\n",
    "    ax1.set_xlabel('Mean |SHAP Value|', fontsize=10)\n",
    "    ax1.tick_params(axis='y', labelsize=8, rotation=0)  # Smaller y-label font and rotation\n",
    "    \n",
    "    # Right subplot: SHAP dot plot\n",
    "    plt.sca(ax2)  # Set current axes to ax2\n",
    "    shap.summary_plot(shap_values, X, plot_type='dot', max_display=max_display, show=False)\n",
    "    ax2.set_title('SHAP Dot Plot (Direction: Red=High Value, Blue=Low Value)', fontsize=10)\n",
    "    ax2.set_xlabel('SHAP Value (Positive: Increases Churn)', fontsize=10)\n",
    "    ax2.tick_params(axis='y', labelsize=8, rotation=0)  # Smaller y-label font and rotation\n",
    "    \n",
    "    # Adjust layout to prevent overlap\n",
    "    plt.tight_layout(pad = 0.5)\n",
    "    \n",
    "    if show:\n",
    "        plt.show()\n",
    "    \n",
    "    return fig\n"
   ]
  },
  {
   "cell_type": "markdown",
   "id": "49350b9e",
   "metadata": {},
   "source": [
    "# Workflow"
   ]
  },
  {
   "cell_type": "code",
   "execution_count": 6,
   "id": "2f245bd5",
   "metadata": {},
   "outputs": [],
   "source": [
    "df = pd.read_csv('../data/customer_churn_telecom_services.csv')"
   ]
  },
  {
   "cell_type": "code",
   "execution_count": 7,
   "id": "cda452a9",
   "metadata": {},
   "outputs": [
    {
     "name": "stdout",
     "output_type": "stream",
     "text": [
      "<class 'pandas.core.frame.DataFrame'>\n",
      "RangeIndex: 7043 entries, 0 to 7042\n",
      "Data columns (total 20 columns):\n",
      " #   Column            Non-Null Count  Dtype  \n",
      "---  ------            --------------  -----  \n",
      " 0   gender            7043 non-null   object \n",
      " 1   SeniorCitizen     7043 non-null   int64  \n",
      " 2   Partner           7043 non-null   object \n",
      " 3   Dependents        7043 non-null   object \n",
      " 4   tenure            7043 non-null   int64  \n",
      " 5   PhoneService      7043 non-null   object \n",
      " 6   MultipleLines     7043 non-null   object \n",
      " 7   InternetService   7043 non-null   object \n",
      " 8   OnlineSecurity    7043 non-null   object \n",
      " 9   OnlineBackup      7043 non-null   object \n",
      " 10  DeviceProtection  7043 non-null   object \n",
      " 11  TechSupport       7043 non-null   object \n",
      " 12  StreamingTV       7043 non-null   object \n",
      " 13  StreamingMovies   7043 non-null   object \n",
      " 14  Contract          7043 non-null   object \n",
      " 15  PaperlessBilling  7043 non-null   object \n",
      " 16  PaymentMethod     7043 non-null   object \n",
      " 17  MonthlyCharges    7043 non-null   float64\n",
      " 18  TotalCharges      7032 non-null   float64\n",
      " 19  Churn             7043 non-null   object \n",
      "dtypes: float64(2), int64(2), object(16)\n",
      "memory usage: 1.1+ MB\n"
     ]
    }
   ],
   "source": [
    "df.info()"
   ]
  },
  {
   "cell_type": "code",
   "execution_count": 8,
   "id": "a6f7d640",
   "metadata": {},
   "outputs": [],
   "source": [
    "# fill the missing data in 'TotalCharges'ArithmeticError# fill missing values in 'TotalCharges'\n",
    "df['TotalCharges'] = df['TotalCharges'].fillna(df['MonthlyCharges'] * df['tenure'])"
   ]
  },
  {
   "cell_type": "code",
   "execution_count": 9,
   "id": "dc1b22bd",
   "metadata": {},
   "outputs": [
    {
     "data": {
      "text/plain": [
       "Index(['gender', 'SeniorCitizen', 'Partner', 'Dependents', 'tenure',\n",
       "       'PhoneService', 'MultipleLines', 'InternetService', 'OnlineSecurity',\n",
       "       'OnlineBackup', 'DeviceProtection', 'TechSupport', 'StreamingTV',\n",
       "       'StreamingMovies', 'Contract', 'PaperlessBilling', 'PaymentMethod',\n",
       "       'MonthlyCharges', 'TotalCharges', 'Churn'],\n",
       "      dtype='object')"
      ]
     },
     "execution_count": 9,
     "metadata": {},
     "output_type": "execute_result"
    }
   ],
   "source": [
    "df.columns"
   ]
  },
  {
   "cell_type": "code",
   "execution_count": 10,
   "id": "e2a427eb",
   "metadata": {},
   "outputs": [],
   "source": [
    "# define target and variables\n",
    "categorical_variable = ['gender', 'SeniorCitizen', 'Partner', 'Dependents', 'PhoneService', 'MultipleLines', 'InternetService', 'OnlineSecurity', 'OnlineBackup', 'DeviceProtection', 'TechSupport', 'StreamingTV', 'StreamingMovies', 'Contract', 'PaperlessBilling', 'PaymentMethod']\n",
    "numeric_variables = ['tenure', 'MonthlyCharges', 'TotalCharges']\n",
    "\n",
    "variables = df[categorical_variable + numeric_variables]\n",
    "\n",
    "target = df['Churn']"
   ]
  },
  {
   "cell_type": "code",
   "execution_count": 11,
   "id": "68306311",
   "metadata": {},
   "outputs": [],
   "source": [
    "# train validation test split of the dataset\n",
    "X_train_val, X_test, y_train_val, y_test = train_test_split(variables, target, test_size = 0.2, random_state = 42, stratify = target)\n",
    "X_train, X_val, y_train, y_val = train_test_split(X_train_val, y_train_val, test_size = 0.25, random_state = 42, stratify = y_train_val)"
   ]
  },
  {
   "cell_type": "code",
   "execution_count": 12,
   "id": "633fc1eb",
   "metadata": {},
   "outputs": [],
   "source": [
    "# label encoder for target \n",
    "le = LabelEncoder()\n",
    "y_train_en = le.fit_transform(y_train)\n",
    "y_val_en = le.transform(y_val)\n",
    "y_test_en = le.transform(y_test)"
   ]
  },
  {
   "cell_type": "code",
   "execution_count": 13,
   "id": "03384d93",
   "metadata": {},
   "outputs": [],
   "source": [
    "# categorical encoding\n",
    "ohe = OneHotEncoder(handle_unknown='ignore', drop = 'first')\n",
    "X_train_ohe = pd.DataFrame(ohe.fit_transform(X_train[categorical_variable]).toarray(), columns = ohe.get_feature_names_out(), index = X_train.index)\n",
    "X_val_ohe = pd.DataFrame(ohe.fit_transform(X_val[categorical_variable]).toarray(), columns = ohe.get_feature_names_out(), index = X_val.index)\n",
    "X_test_ohe = pd.DataFrame(ohe.fit_transform(X_test[categorical_variable]).toarray(), columns = ohe.get_feature_names_out(), index = X_test.index)"
   ]
  },
  {
   "cell_type": "code",
   "execution_count": 14,
   "id": "737817ae",
   "metadata": {},
   "outputs": [],
   "source": [
    "# combine nueric and encoded variables\n",
    "X_train = pd.concat([X_train[numeric_variables], X_train_ohe], axis = 1)\n",
    "X_val = pd.concat([X_val[numeric_variables], X_val_ohe], axis = 1)\n",
    "X_test = pd.concat([X_test[numeric_variables], X_test_ohe], axis = 1)"
   ]
  },
  {
   "cell_type": "code",
   "execution_count": 15,
   "id": "a160e520",
   "metadata": {},
   "outputs": [
    {
     "name": "stdout",
     "output_type": "stream",
     "text": [
      "Outliers for column 'tenure':\n",
      "No outliers found.\n",
      "--------------------------------------------------\n",
      "Outliers for column 'MonthlyCharges':\n",
      "No outliers found.\n",
      "--------------------------------------------------\n",
      "Outliers for column 'TotalCharges':\n",
      "No outliers found.\n",
      "--------------------------------------------------\n"
     ]
    }
   ],
   "source": [
    "# identify outliers\n",
    "analyze_outliers(X_train, numeric_variables)"
   ]
  },
  {
   "cell_type": "markdown",
   "id": "d2ee0654",
   "metadata": {},
   "source": [
    "Since there is no outlier, we do not need to remove or winsorize the data"
   ]
  },
  {
   "cell_type": "code",
   "execution_count": 16,
   "id": "92fd3f6f",
   "metadata": {},
   "outputs": [],
   "source": [
    "# scale the data with standardscaler\n",
    "scaler = StandardScaler()\n",
    "\n",
    "X_train[numeric_variables] = scaler.fit_transform(X_train[numeric_variables])\n",
    "X_val[numeric_variables] = scaler.transform(X_val[numeric_variables])\n",
    "X_test[numeric_variables] = scaler.transform(X_test[numeric_variables])"
   ]
  },
  {
   "cell_type": "code",
   "execution_count": 17,
   "id": "ab29cdeb",
   "metadata": {},
   "outputs": [],
   "source": [
    "# Imbalance handling\n",
    "scale_pos_weight = sum(y_train_en == 0) / sum(y_train_en == 1)\n",
    "\n",
    "# Base model\n",
    "xgb_model = xgb.XGBClassifier(\n",
    "    objective='binary:logistic',\n",
    "    scale_pos_weight=scale_pos_weight,\n",
    "    random_state=42,\n",
    "    eval_metric='aucpr'\n",
    ")\n",
    "\n",
    "# Hyperparameter tuning on val (simple grid; expand as needed)\n",
    "param_grid = {\n",
    "    'n_estimators': [100, 200],\n",
    "    'max_depth': [3, 5],\n",
    "    'learning_rate': [0.1, 0.01]\n",
    "}\n",
    "grid_search = GridSearchCV(xgb_model, param_grid, cv=5, scoring='roc_auc', n_jobs=-1)\n",
    "grid_search.fit(X_train, y_train_en)\n",
    "\n",
    "best_model = grid_search.best_estimator_\n",
    "\n",
    "y_val_pred = best_model.predict(X_val)\n",
    "y_test_pred = best_model.predict(X_test)"
   ]
  },
  {
   "cell_type": "code",
   "execution_count": 18,
   "id": "b4bdc978",
   "metadata": {},
   "outputs": [
    {
     "name": "stdout",
     "output_type": "stream",
     "text": [
      "Test AUC-ROC: 0.7572541269472215\n",
      "              precision    recall  f1-score   support\n",
      "\n",
      "           0       0.91      0.70      0.79      1035\n",
      "           1       0.50      0.81      0.62       374\n",
      "\n",
      "    accuracy                           0.73      1409\n",
      "   macro avg       0.70      0.76      0.71      1409\n",
      "weighted avg       0.80      0.73      0.75      1409\n",
      "\n"
     ]
    }
   ],
   "source": [
    "print(\"Test AUC-ROC:\", roc_auc_score(y_test_en, y_test_pred))\n",
    "print(classification_report(y_test_en, y_test_pred))"
   ]
  },
  {
   "cell_type": "markdown",
   "id": "827de22d",
   "metadata": {},
   "source": [
    "The ROC-AUC shows value of 0.757, indicating moderate ability to distinguish churn and non-churn customers.\n",
    "\n",
    "Class-specific metrics:\n",
    "- $Precision_{0}$ is at 0.91, showing that 91% of the customers being classified as non-churners are really non-churners\n",
    "- $Recall_{0}$ is at 0.70, showing that 70% of the actual non-churners have been identified by the model\n",
    "- $Precision_{1}$ is at 0.5, showing that only 50% of the customers being classified as churners are really churners\n",
    "- $Recall_{1}$ is at 0.81, showing the high ability of the model to identify 81% of the actual churners\n",
    "\n",
    "This result indicates that the model bias in predicting customers to churners. "
   ]
  },
  {
   "cell_type": "code",
   "execution_count": 80,
   "id": "85510d05",
   "metadata": {},
   "outputs": [
    {
     "data": {
      "image/png": "[encoded data removed]",
      "text/plain": [
       "<Figure size 800x750 with 3 Axes>"
      ]
     },
     "metadata": {},
     "output_type": "display_data"
    }
   ],
   "source": [
    "fig = plot_shap(shap_values, X_test)"
   ]
  },
  {
   "cell_type": "markdown",
   "id": "7f6ac906",
   "metadata": {},
   "source": [
    "With SHAP analysis, contract_Two years, tenure, and contrac_One year have highest negative shap value, indicating negative influence to churn rate. while internetService_fiber optic, and PaymentMethod_Electronic check have both positive shap value, indicating positive influence to churn rate."
   ]
  },
  {
   "cell_type": "code",
   "execution_count": null,
   "id": "45a68c2f",
   "metadata": {},
   "outputs": [],
   "source": []
  }
 ],
 "metadata": {
  "kernelspec": {
   "display_name": "telco_churn",
   "language": "python",
   "name": "python3"
  },
  "language_info": {
   "codemirror_mode": {
    "name": "ipython",
    "version": 3
   },
   "file_extension": ".py",
   "mimetype": "text/x-python",
   "name": "python",
   "nbconvert_exporter": "python",
   "pygments_lexer": "ipython3",
   "version": "3.11.13"
  }
 },
 "nbformat": 4,
 "nbformat_minor": 5
}
