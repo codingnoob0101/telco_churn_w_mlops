{
 "cells": [
  {
   "cell_type": "code",
   "execution_count": 39,
   "id": "cdd36960",
   "metadata": {},
   "outputs": [],
   "source": [
    "import pandas as pd\n",
    "from sklearn.model_selection import train_test_split\n",
    "from sklearn.preprocessing import StandardScaler\n",
    "from scipy import stats\n",
    "import warnings"
   ]
  },
  {
   "cell_type": "code",
   "execution_count": 3,
   "id": "65e7e897",
   "metadata": {},
   "outputs": [],
   "source": [
    "warnings.filterwarnings('ignore')"
   ]
  },
  {
   "cell_type": "markdown",
   "id": "ffa67fca",
   "metadata": {},
   "source": [
    "# Utility function"
   ]
  },
  {
   "cell_type": "code",
   "execution_count": 37,
   "id": "a30536cd",
   "metadata": {},
   "outputs": [],
   "source": [
    "def analyze_outliers(df, column_names):\n",
    "    \"\"\"\n",
    "    Analyze and print the outlier rows for the given numeric columns using the IQR method.\n",
    "\n",
    "    Parameters:\n",
    "    df (pandas.DataFrame): The input DataFrame.\n",
    "    column_names (list of str): List of numeric column names to analyze.\n",
    "\n",
    "    Returns:\n",
    "    None (prints the outliers directly).\n",
    "    \"\"\"\n",
    "\n",
    "    df_analyze = df.copy()\n",
    "\n",
    "    for column in column_names:\n",
    "        # Define lower and upper bound\n",
    "        Q1 = df_analyze[column].quantile(0.25)\n",
    "        Q3 = df_analyze[column].quantile(0.75)\n",
    "        IQR = Q3 - Q1\n",
    "        lower_bound = Q1 - 1.5 * IQR\n",
    "        upper_bound = Q3 + 1.5 * IQR\n",
    "\n",
    "        # Select outliers\n",
    "        outliers = df_analyze[(df_analyze[column] < lower_bound) | (df_analyze[column] > upper_bound)]\n",
    "\n",
    "        # Print output\n",
    "        print(f\"Outliers for column '{column}':\")\n",
    "        if outliers.empty:\n",
    "            print(\"No outliers found.\")\n",
    "        else:\n",
    "            print(outliers[[column]])  # Prints only the column; add more columns if needed\n",
    "        print(\"-\" * 50)\n",
    "\n",
    "# Example usage (assuming 'df' is your DataFrame):\n",
    "# analyze_outliers(df, ['MonthlyCharges', 'tenure', 'TotalCharges'])\n"
   ]
  },
  {
   "cell_type": "code",
   "execution_count": 14,
   "id": "bdcee2c9",
   "metadata": {},
   "outputs": [],
   "source": [
    "def remove_outliers(df, column_names):\n",
    "    \"\"\"\n",
    "    Remove outliers in numeric columns of the dataframe by using IQR method\n",
    "    outliers defined as laying outside 1.5 IQR lower or upper than Q1 & Q3\n",
    "    \"\"\"\n",
    "    df_clean = df.copy()\n",
    "\n",
    "    for column in column_names:\n",
    "        # define lower and upper bound\n",
    "        Q1 = df_clean[column].quantile(0.25)\n",
    "        Q3 = df_clean[column].quantile(0.75)\n",
    "        IQR = Q3 - Q1\n",
    "        lower_bound = Q1 - 1.5*IQR\n",
    "        upper_bound = Q3 + 1.5*IQR\n",
    "\n",
    "        # filter out outliers\n",
    "        df_clean = df_clean[(df_clean[column] >= lower_bound) & (df_clean[column] <= upper_bound)]\n",
    "\n",
    "    return df_clean"
   ]
  },
  {
   "cell_type": "code",
   "execution_count": 24,
   "id": "b45da4f0",
   "metadata": {},
   "outputs": [],
   "source": [
    "def winsorize_outliers(df, column_names, limits = [0.05, 0.05]):\n",
    "    \"\"\"\n",
    "    instead of completely remove the extreme values of the dataset,\n",
    "    winsorize the outliers to cap the max values at 0.05 and 0.95\n",
    "\n",
    "    variables:\n",
    "    - columns_names: provide a list of column names\n",
    "    \"\"\"\n",
    "    df_winsorize = df.copy()\n",
    "\n",
    "    for column in column_names:\n",
    "        df_winsorize[column] = stats.mstats.winsorize(\n",
    "            df_winsorize[column],\n",
    "            limits = limits\n",
    "        )\n",
    "\n",
    "    return df_winsorize"
   ]
  },
  {
   "cell_type": "markdown",
   "id": "33bb2b53",
   "metadata": {},
   "source": [
    "# Workflow"
   ]
  },
  {
   "cell_type": "code",
   "execution_count": 25,
   "id": "745f2fa8",
   "metadata": {},
   "outputs": [],
   "source": [
    "df = pd.read_csv('../data/customer_churn_telecom_services.csv')"
   ]
  },
  {
   "cell_type": "code",
   "execution_count": 26,
   "id": "ed540911",
   "metadata": {},
   "outputs": [
    {
     "name": "stdout",
     "output_type": "stream",
     "text": [
      "<class 'pandas.core.frame.DataFrame'>\n",
      "RangeIndex: 7043 entries, 0 to 7042\n",
      "Data columns (total 20 columns):\n",
      " #   Column            Non-Null Count  Dtype  \n",
      "---  ------            --------------  -----  \n",
      " 0   gender            7043 non-null   object \n",
      " 1   SeniorCitizen     7043 non-null   int64  \n",
      " 2   Partner           7043 non-null   object \n",
      " 3   Dependents        7043 non-null   object \n",
      " 4   tenure            7043 non-null   int64  \n",
      " 5   PhoneService      7043 non-null   object \n",
      " 6   MultipleLines     7043 non-null   object \n",
      " 7   InternetService   7043 non-null   object \n",
      " 8   OnlineSecurity    7043 non-null   object \n",
      " 9   OnlineBackup      7043 non-null   object \n",
      " 10  DeviceProtection  7043 non-null   object \n",
      " 11  TechSupport       7043 non-null   object \n",
      " 12  StreamingTV       7043 non-null   object \n",
      " 13  StreamingMovies   7043 non-null   object \n",
      " 14  Contract          7043 non-null   object \n",
      " 15  PaperlessBilling  7043 non-null   object \n",
      " 16  PaymentMethod     7043 non-null   object \n",
      " 17  MonthlyCharges    7043 non-null   float64\n",
      " 18  TotalCharges      7032 non-null   float64\n",
      " 19  Churn             7043 non-null   object \n",
      "dtypes: float64(2), int64(2), object(16)\n",
      "memory usage: 1.1+ MB\n"
     ]
    }
   ],
   "source": [
    "df.info()"
   ]
  },
  {
   "cell_type": "code",
   "execution_count": 27,
   "id": "02e7c22f",
   "metadata": {},
   "outputs": [],
   "source": [
    "# fill the missing data in 'TotalCharges'ArithmeticError# fill missing values in 'TotalCharges'\n",
    "df['TotalCharges'] = df['TotalCharges'].fillna(df['MonthlyCharges'] * df['tenure'])"
   ]
  },
  {
   "cell_type": "code",
   "execution_count": 28,
   "id": "33cb2b30",
   "metadata": {},
   "outputs": [
    {
     "data": {
      "text/plain": [
       "Index(['gender', 'SeniorCitizen', 'Partner', 'Dependents', 'tenure',\n",
       "       'PhoneService', 'MultipleLines', 'InternetService', 'OnlineSecurity',\n",
       "       'OnlineBackup', 'DeviceProtection', 'TechSupport', 'StreamingTV',\n",
       "       'StreamingMovies', 'Contract', 'PaperlessBilling', 'PaymentMethod',\n",
       "       'MonthlyCharges', 'TotalCharges', 'Churn'],\n",
       "      dtype='object')"
      ]
     },
     "execution_count": 28,
     "metadata": {},
     "output_type": "execute_result"
    }
   ],
   "source": [
    "df.columns"
   ]
  },
  {
   "cell_type": "code",
   "execution_count": 29,
   "id": "35f7a8a1",
   "metadata": {},
   "outputs": [],
   "source": [
    "# define target and variables\n",
    "categorical_variable = ['gender', 'SeniorCitizen', 'Partner', 'Dependents', 'PhoneService', 'MultipleLines', 'InternetService', 'OnlineSecurity', 'OnlineBackup', 'DeviceProtection', 'TechSupport', 'StreamingTV', 'StreamingMovies', 'Contract', 'PaperlessBilling', 'PaymentMethod']\n",
    "numeric_variables = ['tenure', 'MonthlyCharges', 'TotalCharges']\n",
    "\n",
    "variables = df[categorical_variable + numeric_variables]\n",
    "\n",
    "target = df['Churn']"
   ]
  },
  {
   "cell_type": "code",
   "execution_count": 30,
   "id": "f09a6cb2",
   "metadata": {},
   "outputs": [],
   "source": [
    "# train validation test split of the dataset\n",
    "X_train_val, X_test, y_train_val, y_test = train_test_split(variables, target, test_size = 0.2, random_state = 42, stratify = target)\n",
    "X_train, X_val, y_train, y_val = train_test_split(X_train_val, y_train_val, test_size = 0.25, random_state = 42, stratify = y_train_val)"
   ]
  },
  {
   "cell_type": "code",
   "execution_count": 38,
   "id": "58f46dde",
   "metadata": {},
   "outputs": [
    {
     "name": "stdout",
     "output_type": "stream",
     "text": [
      "Outliers for column 'tenure':\n",
      "No outliers found.\n",
      "--------------------------------------------------\n",
      "Outliers for column 'MonthlyCharges':\n",
      "No outliers found.\n",
      "--------------------------------------------------\n",
      "Outliers for column 'TotalCharges':\n",
      "No outliers found.\n",
      "--------------------------------------------------\n"
     ]
    }
   ],
   "source": [
    "# identify outliers\n",
    "analyze_outliers(X_train, numeric_variables)"
   ]
  },
  {
   "cell_type": "markdown",
   "id": "a94cf2ff",
   "metadata": {},
   "source": [
    "Since there is no outlier, we do not need to remove or winsorize the data"
   ]
  },
  {
   "cell_type": "code",
   "execution_count": 42,
   "id": "d2f75a20",
   "metadata": {},
   "outputs": [],
   "source": [
    "# scale the data with standardscaler\n",
    "scaler = StandardScaler()\n",
    "\n",
    "X_train[numeric_variables] = scaler.fit_transform(X_train[numeric_variables])\n",
    "X_val[numeric_variables] = scaler.transform(X_val[numeric_variables])\n",
    "X_test[numeric_variables] = scaler.transform(X_test[numeric_variables])"
   ]
  },
  {
   "cell_type": "code",
   "execution_count": null,
   "id": "629c5c80",
   "metadata": {},
   "outputs": [],
   "source": []
  }
 ],
 "metadata": {
  "kernelspec": {
   "display_name": "telco_churn",
   "language": "python",
   "name": "python3"
  },
  "language_info": {
   "codemirror_mode": {
    "name": "ipython",
    "version": 3
   },
   "file_extension": ".py",
   "mimetype": "text/x-python",
   "name": "python",
   "nbconvert_exporter": "python",
   "pygments_lexer": "ipython3",
   "version": "3.11.13"
  }
 },
 "nbformat": 4,
 "nbformat_minor": 5
}
